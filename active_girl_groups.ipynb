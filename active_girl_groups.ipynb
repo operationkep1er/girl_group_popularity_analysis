{
 "cells": [
  {
   "cell_type": "markdown",
   "metadata": {},
   "source": [
    "Criteria for inclusion:\n",
    "1. Must be from a music company.\n",
    "2. Must have released at least 1 original song.\n",
    "3. Cannot be a sub-unit, project group, or one-off group created for promotional or special stage purposes (i.e. no year end collab stages or CF song collabs).\n",
    "4. Must have officially debuted. Pre-debut promotions are not considered an official debut.\n",
    "5. Must be a currently active group. Groups that are not technically not disbanded, but have not had any official full group activities or social media postings within the past 2 years are not considered active. One-off reunion comebacks are not included.\n",
    "    - If the activity status of the group is unknown or ambiguous, then they are still included in the data.\n",
    "6. Spotify data is available for this artist.\n",
    "\n",
    "Example groups that are included:\n",
    "- XG \n",
    "- MAVE: \n",
    "\n",
    "Example groups that are _not_ included:\n",
    "- LOONA (disbanded)\n",
    "- WJMK (one-off promotional group)\n",
    "- CLC (currently disbanded/disbanded/disbanded/inactive as a group)\n",
    "- Girls' Generation (currently disbanded/inactive as a group, reunion comeback not included)\n",
    "- WJSN CHOCOME (sub-unit)\n",
    "- AZER (one-off group -- created for a university)\n"
   ]
  },
  {
   "cell_type": "code",
   "execution_count": 2,
   "metadata": {},
   "outputs": [],
   "source": [
    "import re"
   ]
  },
  {
   "cell_type": "code",
   "execution_count": 19,
   "metadata": {},
   "outputs": [],
   "source": [
    "import pickle"
   ]
  },
  {
   "cell_type": "code",
   "execution_count": 3,
   "metadata": {},
   "outputs": [],
   "source": [
    "# read kprofiles girl groups\n",
    "path = 'kprofiles_girl_groups_raw.txt'\n",
    "f = open(path, \"r\")\n",
    "all_girl_groups = []\n",
    "for x in f:\n",
    "  x = x.replace('\\n', '')\n",
    "  if len(x) > 1:\n",
    "    all_girl_groups.append(x)"
   ]
  },
  {
   "cell_type": "code",
   "execution_count": 4,
   "metadata": {},
   "outputs": [
    {
     "data": {
      "text/plain": [
       "316"
      ]
     },
     "execution_count": 4,
     "metadata": {},
     "output_type": "execute_result"
    }
   ],
   "source": [
    "# how many girl groups are there initially? -- 316\n",
    "len(all_girl_groups)"
   ]
  },
  {
   "cell_type": "code",
   "execution_count": 5,
   "metadata": {},
   "outputs": [],
   "source": [
    "# remove non-kpop or specialty groups\n",
    "remove_regexp = re.compile('(kids? group)|rock band|dance (group|crew)|trot (girl )?group|live idol|collab group|project (girl )?group')\n",
    "idol_girl_groups = \\\n",
    "    [group_name for group_name in all_girl_groups if not bool(remove_regexp.search(group_name.lower()))]\n"
   ]
  },
  {
   "cell_type": "code",
   "execution_count": 6,
   "metadata": {},
   "outputs": [],
   "source": [
    "# filter for pre-debut groups\n",
    "predebut_regexp = re.compile('pre-debut')\n",
    "predebut_girl_groups = \\\n",
    "    [group_name for group_name in all_girl_groups if bool(predebut_regexp.search(group_name.lower()))]"
   ]
  },
  {
   "cell_type": "code",
   "execution_count": 7,
   "metadata": {},
   "outputs": [],
   "source": [
    "# since list of predebut groups is outdated, manually determine which groups to keep\n",
    "groups_to_keep = ['ADYA (formerly known as Starting Girls) *pre-debut'\n",
    "                   , 'BBGIRLS  * pre-debut'\n",
    "                   , 'Bunny.T * pre-debut'\n",
    "                   , 'E:LFIN  * pre-debut'\n",
    "                   , 'KISS OF LIFE *pre-debut']"
   ]
  },
  {
   "cell_type": "code",
   "execution_count": 8,
   "metadata": {},
   "outputs": [],
   "source": [
    "# remove pre-debut groups\n",
    "idol_girl_groups = \\\n",
    "    [group_name for group_name in idol_girl_groups if (group_name not in predebut_girl_groups) or (group_name in groups_to_keep)]"
   ]
  },
  {
   "cell_type": "code",
   "execution_count": 9,
   "metadata": {},
   "outputs": [],
   "source": [
    "# filter for sub-unit groups\n",
    "subunit_regexp = re.compile('sub-unit')\n",
    "subunit_girl_groups = \\\n",
    "    [group_name for group_name in idol_girl_groups if bool(subunit_regexp.search(group_name.lower()))]\n",
    "main_girl_groups = \\\n",
    "    [group_name for group_name in idol_girl_groups if not bool(subunit_regexp.search(group_name.lower()))]"
   ]
  },
  {
   "cell_type": "code",
   "execution_count": 10,
   "metadata": {},
   "outputs": [],
   "source": [
    "# strip white space from group names\n",
    "idol_girl_groups = [group.strip() for group in main_girl_groups]"
   ]
  },
  {
   "cell_type": "code",
   "execution_count": 11,
   "metadata": {},
   "outputs": [],
   "source": [
    "# LITERALLY manually went through and removed groups if they did not meet criteria for inclusion\n",
    "groups_to_remove = [\n",
    "    '4CARAT'  # kids group\n",
    "    , '4X'  # disbanded/inactive\n",
    "    , '9MUSES'  # disbanded/inactive\n",
    "    , 'ACID EYES (tripleS)'  # doesn't have individual spotify page\n",
    "    , 'Angel Rus'  # disbanded/inactive\n",
    "    , 'AOA'  # disbanded/inactive\n",
    "    , 'AR3NA (Thai-Korean group)'  # not from a K-pop company, do not promote in Korea\n",
    "    , 'A-plus (2023 Group)'  # university group\n",
    "    , 'Asia GirlS'  # university group\n",
    "    , 'AZER (group formed by Howon University)'  # university group\n",
    "    , 'B-OURS'  # pre-debut\n",
    "    , 'BB Ahn'  # disbanded/inactive\n",
    "    , 'Berry Chu'  # disbanded/inactive\n",
    "    , 'BERRYZ'  # pre-debut\n",
    "    , 'Brown Eyed Girls'  # disbanded/inactive\n",
    "    , 'Celeb Five'  # disbanded/inactive\n",
    "    , 'Choco2'  # pre-debut\n",
    "    , 'CLC *indefinite hiatus (?)'\n",
    "    , 'Crescendo'  # disbanded/inactive\n",
    "    , 'CSVC'  # project group\n",
    "    , 'Dal★Shabet *currently on hiatus'  # disbanded/inactive\n",
    "    , 'DESTINY'  # disbanded/inactive\n",
    "    , 'DIA'  # disbanded/inactive\n",
    "    , 'Eternity (A.I. girl group)' # no promotions, no official training\n",
    "    , 'Fanatics'  # disbanded/inactive\n",
    "    , 'FERRY BLUE'  # university group\n",
    "    , 'fishingirls'  # rock band\n",
    "    , 'Fly With Me'  # dance group\n",
    "    , 'Gavy NJ'  # ballad group\n",
    "    , \"Girl’s Day\"  # disbanded/inactive\n",
    "    , \"Girls’ Generation\"  # disbanded/inactive\n",
    "    , \"Girls Next Door\"  # project group\n",
    "    , 'Hey Girls'  # disbanded/inactive\n",
    "    , \"HeyMiss\"  # disbanded/inactive\n",
    "    , 'HONEY POPCORN'  # disbanded/inactive\n",
    "    , 'ikling'  # no promotions, not from a K-pop company\n",
    "    , 'ISEGYE IDOL'  # virtual group\n",
    "    , 'Laboum'  # disbanded/inactive\n",
    "    , \"Ladies’ Code\"  # disbanded/inactive\n",
    "    , \"LA FLOR\"  # university group\n",
    "    , \"Like Me\"  # disbanded/inactive\n",
    "    , \"Live High\"  # disbanded/inactive\n",
    "    , \"LOONA\"  # disbanded/inactive\n",
    "    , \"LOVElution\"  # doesn't have individual spotify page\n",
    "    , \"Lusty\"  # disbanded/inactive\n",
    "    , 'MAJORS'  # disbanded/inactive\n",
    "    , 'Maywish'  # disbanded/inactive\n",
    "    , 'M.Diva (Opera vocal group)'  # non-idol group\n",
    "    , 'MuuTive (formerly known as PBT or GKM NEO Trainees)'  # disbanded/inactive\n",
    "    , 'My Darling'  # disbanded/inactive\n",
    "    , 'NEKIRU'  # disbanded/inactive\n",
    "    , 'NextU (Global K-pop girl group)'  # pre-debut\n",
    "    , 'Oh!GG'  # disbanded/inactive\n",
    "    , 'ONEST'  # university group\n",
    "    , 'ON TOP'  # disbanded/inactive\n",
    "    , 'Pastel Girls'  # non-idol group\n",
    "    , 'Pocket Girls'  # non-kpop company, no promotions\n",
    "    , 'PRECIOUS'  # disbanded/inactive\n",
    "    , 'Pride Band'  # non-idol group\n",
    "    , 'PRISMA' # disbanded/inactive\n",
    "    , 'Pritz' # disbanded/inactive\n",
    "    , 'PSEUDO SIGMA' # have not released any music\n",
    "    , 'Pungdeng-E'  # disbanded/inactive\n",
    "    , 'Purple Beck'  # disbanded/inactive\n",
    "    , 'PURPLE RING'  # disbanded\n",
    "    , \"Q.O.S\"  # disbanded/inactive\n",
    "    , 'RAMISU'  # disbanded/inactive\n",
    "    , 'Refiners'  # disbanded/inactive\n",
    "    , 'Rose Finger'  # disbanded/inactive\n",
    "    , 'RuViChe'  # do not have original music\n",
    "    , 'S.I.S'  # disbanded/inactive\n",
    "    , 'SHADOW'  # project group\n",
    "    , 'Silhouette' # project group\n",
    "    , 'SOYOU'  # non-idol group\n",
    "    , 'SRZN'  # not from a k-pop company\n",
    "    , 'Sunny Hill'  # disbanded/inactive\n",
    "    , 'Ssambak Girls (Formed from the Season 2 Project from Mr. Yoon)'  # project group\n",
    "    , 'T-Ara'  # disbanded/inactive\n",
    "    , \"The Grace\"  # disbanded/inactive\n",
    "    , \"Tier 4\"  # not from a k-pop company\n",
    "    , \"TRACER\"  # pre-debut\n",
    "    , 'UiU'  # university group\n",
    "    , 'UPTOYOU Final Lineup'  # disbanded/inactive\n",
    "    , 'Vanilla'  # project group\n",
    "    , 'VENUS'  # trot group\n",
    "    , 'Violet'  # disbanded/inactive\n",
    "    , 'Walking After U'  # non-idol group\n",
    "    , \"XoX\"  # not from a k-pop company, no k-pop training\n",
    "    , 'WM Entertainment New Girl Group'  # pre-debut\n",
    "    , 'Rose Queen'  # does not have original music\n",
    "    , 'BLE'  # kids group\n",
    "    , 'Blossom'  # doesn't have an individual spotify page\n",
    "    , \"Bright Day\"  # disbanded/inactive \n",
    "    , 'Cherish'  # project group\n",
    "    , 'EXID'  # inactive\n",
    "    , 'Girls’ Alert'  # disbanded/inactive\n",
    "    , 'Half Moon'  # doesn't have an individual spotify page\n",
    "    , 'ICE CREAM'  # project group\n",
    "    , 'K/DA'  # disbanded/inactive\n",
    "    , 'MZ SooChaeHak'  # does not promote, does not have K-pop training\n",
    "    , 'Bluewish'  # no promotions, no k-pop training\n",
    "]"
   ]
  },
  {
   "cell_type": "code",
   "execution_count": 12,
   "metadata": {},
   "outputs": [],
   "source": [
    "# get final list of eligible girl groups\n",
    "eligible_girl_groups = [group_name for group_name in idol_girl_groups if (group_name not in groups_to_remove)]"
   ]
  },
  {
   "cell_type": "code",
   "execution_count": 13,
   "metadata": {},
   "outputs": [
    {
     "data": {
      "text/plain": [
       "91"
      ]
     },
     "execution_count": 13,
     "metadata": {},
     "output_type": "execute_result"
    }
   ],
   "source": [
    "# what is the final number of eligible girl groups?\n",
    "len(eligible_girl_groups)"
   ]
  },
  {
   "cell_type": "code",
   "execution_count": 14,
   "metadata": {},
   "outputs": [],
   "source": [
    "# clean final list of group names\n",
    "## remove extra text\n",
    "eligible_girl_groups = [group_name.split(' (', 1)[0] for group_name in eligible_girl_groups]\n",
    "\n",
    "## remove pre-debut text\n",
    "predebut_regexp = re.compile('(.*?)(( )+\\*( )?pre-debut)$')\n",
    "eligible_girl_groups = \\\n",
    "    [re.search(predebut_regexp, group_name).group(1) if re.search(predebut_regexp, group_name) \n",
    "        else group_name for group_name in eligible_girl_groups]"
   ]
  },
  {
   "cell_type": "code",
   "execution_count": 17,
   "metadata": {},
   "outputs": [],
   "source": [
    "# replace Cosmic Girls with WJSN\n",
    "eligible_girl_groups.remove('Cosmic Girls')\n",
    "eligible_girl_groups.append('WJSN')"
   ]
  },
  {
   "cell_type": "code",
   "execution_count": 18,
   "metadata": {},
   "outputs": [
    {
     "data": {
      "text/plain": [
       "['3YE',\n",
       " 'ADYA',\n",
       " 'aespa',\n",
       " 'ALICE',\n",
       " 'Apink',\n",
       " 'ARTBEAT',\n",
       " 'ARTMS',\n",
       " 'Asome.D',\n",
       " 'BADKIZ',\n",
       " 'BBGIRLS',\n",
       " 'Beauty Box',\n",
       " 'Billlie',\n",
       " 'BLACKPINK',\n",
       " 'Black Swan',\n",
       " 'Bunny.T',\n",
       " 'Busters',\n",
       " 'Cherry Bullet',\n",
       " 'Chic & Idle',\n",
       " 'Chic Angel',\n",
       " 'CIGNATURE',\n",
       " 'CLASS:y',\n",
       " 'CRAXY',\n",
       " 'CSR',\n",
       " 'DIAWINGS',\n",
       " 'Dreamcatcher',\n",
       " 'Dreamnote',\n",
       " 'E:LFIN',\n",
       " 'Episode',\n",
       " 'EVERGLOW',\n",
       " 'Favorite',\n",
       " 'FIFTY FIFTY',\n",
       " 'FLORIA',\n",
       " 'fromis_9',\n",
       " '(G)I-DLE',\n",
       " 'GIRL CRUSH',\n",
       " 'Girls’ World',\n",
       " 'Girls On Top',\n",
       " 'H1-KEY',\n",
       " 'HANA',\n",
       " 'Hashtag',\n",
       " 'Hi-L',\n",
       " 'ICHILLIN’',\n",
       " 'ICU',\n",
       " 'ILY:1',\n",
       " 'IRRIS',\n",
       " 'ITZY',\n",
       " 'IVE',\n",
       " 'Kep1er',\n",
       " 'KISS OF LIFE',\n",
       " 'LAPILLUS',\n",
       " 'LAYSHA',\n",
       " 'LE SSERAFIM',\n",
       " 'LIGHTSUM',\n",
       " 'LIMELIGHT',\n",
       " 'Maka Maka',\n",
       " 'MAMAMOO',\n",
       " 'MAVE:',\n",
       " 'mimiirose',\n",
       " 'Nature',\n",
       " 'NEWJEANS',\n",
       " 'NMIXX',\n",
       " 'OH MY GIRL',\n",
       " 'PEACH A!',\n",
       " 'Pink Fantasy',\n",
       " 'PIXY',\n",
       " 'Posh Girls',\n",
       " 'PRIMROSE',\n",
       " 'PRITTI-G',\n",
       " 'Purple Kiss',\n",
       " 'Q6IX',\n",
       " 'Queenz Eye',\n",
       " 'Red Mint',\n",
       " 'Red Velvet',\n",
       " 'Rocket Punch',\n",
       " 'Rocking Doll',\n",
       " 'Rumble.G',\n",
       " 'Saturday',\n",
       " 'Secret Number',\n",
       " 'SKYLE',\n",
       " 'STAYC',\n",
       " 'TRI.BE',\n",
       " 'TripleS',\n",
       " 'Twice',\n",
       " 'VIVIZ',\n",
       " 'We;Na',\n",
       " 'Weeekly',\n",
       " 'Weki Meki',\n",
       " 'WOO!AH!',\n",
       " 'X:in',\n",
       " 'XG',\n",
       " 'WJSN']"
      ]
     },
     "execution_count": 18,
     "metadata": {},
     "output_type": "execute_result"
    }
   ],
   "source": [
    "# final clean list\n",
    "eligible_girl_groups"
   ]
  },
  {
   "cell_type": "code",
   "execution_count": 22,
   "metadata": {},
   "outputs": [],
   "source": [
    "# pickle object\n",
    "with open('eligible_girl_groups', 'wb') as fp:\n",
    "    pickle.dump(eligible_girl_groups, fp)"
   ]
  }
 ],
 "metadata": {
  "kernelspec": {
   "display_name": "girl_group_concept_clustering",
   "language": "python",
   "name": "python3"
  },
  "language_info": {
   "codemirror_mode": {
    "name": "ipython",
    "version": 3
   },
   "file_extension": ".py",
   "mimetype": "text/x-python",
   "name": "python",
   "nbconvert_exporter": "python",
   "pygments_lexer": "ipython3",
   "version": "3.10.12"
  },
  "orig_nbformat": 4
 },
 "nbformat": 4,
 "nbformat_minor": 2
}
